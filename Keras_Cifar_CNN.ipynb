{
 "cells": [
  {
   "cell_type": "code",
   "execution_count": 6,
   "metadata": {
    "collapsed": true
   },
   "outputs": [],
   "source": [
    "from keras.datasets import cifar10\n",
    "import numpy as np\n",
    "\n",
    "np.random.seed(10)"
   ]
  },
  {
   "cell_type": "code",
   "execution_count": 7,
   "metadata": {},
   "outputs": [],
   "source": [
    "(x_img_train, y_label_train), (x_img_test, y_label_test) = cifar10.load_data()"
   ]
  },
  {
   "cell_type": "code",
   "execution_count": 8,
   "metadata": {},
   "outputs": [
    {
     "name": "stdout",
     "output_type": "stream",
     "text": [
      "train: 50000\n",
      "test: 10000\n"
     ]
    }
   ],
   "source": [
    "print('train:', len(x_img_train))\n",
    "print('test:', len(x_img_test))"
   ]
  },
  {
   "cell_type": "markdown",
   "metadata": {},
   "source": [
    "#### 訓練資料是由images與labels所組成"
   ]
  },
  {
   "cell_type": "code",
   "execution_count": 9,
   "metadata": {},
   "outputs": [
    {
     "data": {
      "text/plain": [
       "(50000, 32, 32, 3)"
      ]
     },
     "execution_count": 9,
     "metadata": {},
     "output_type": "execute_result"
    }
   ],
   "source": [
    "x_img_train.shape"
   ]
  },
  {
   "cell_type": "markdown",
   "metadata": {},
   "source": [
    "維度說明如下:\n",
    "* 50000: 資料筆數\n",
    "* 32, 32: 影像的大小是32x32\n",
    "* 3: 影像為RGB三原色"
   ]
  },
  {
   "cell_type": "code",
   "execution_count": 10,
   "metadata": {},
   "outputs": [
    {
     "data": {
      "text/plain": [
       "array([[[158, 112,  49],\n",
       "        [159, 111,  47],\n",
       "        [165, 116,  51],\n",
       "        ..., \n",
       "        [137,  95,  36],\n",
       "        [126,  91,  36],\n",
       "        [116,  85,  33]],\n",
       "\n",
       "       [[152, 112,  51],\n",
       "        [151, 110,  40],\n",
       "        [159, 114,  45],\n",
       "        ..., \n",
       "        [136,  95,  31],\n",
       "        [125,  91,  32],\n",
       "        [119,  88,  34]],\n",
       "\n",
       "       [[151, 110,  47],\n",
       "        [151, 109,  33],\n",
       "        [158, 111,  36],\n",
       "        ..., \n",
       "        [139,  98,  34],\n",
       "        [130,  95,  34],\n",
       "        [120,  89,  33]],\n",
       "\n",
       "       ..., \n",
       "       [[ 68, 124, 177],\n",
       "        [ 42, 100, 148],\n",
       "        [ 31,  88, 137],\n",
       "        ..., \n",
       "        [ 38,  97, 146],\n",
       "        [ 13,  64, 108],\n",
       "        [ 40,  85, 127]],\n",
       "\n",
       "       [[ 61, 116, 168],\n",
       "        [ 49, 102, 148],\n",
       "        [ 35,  85, 132],\n",
       "        ..., \n",
       "        [ 26,  82, 130],\n",
       "        [ 29,  82, 126],\n",
       "        [ 20,  64, 107]],\n",
       "\n",
       "       [[ 54, 107, 160],\n",
       "        [ 56, 105, 149],\n",
       "        [ 45,  89, 132],\n",
       "        ..., \n",
       "        [ 24,  77, 124],\n",
       "        [ 34,  84, 129],\n",
       "        [ 21,  67, 110]]], dtype=uint8)"
      ]
     },
     "execution_count": 10,
     "metadata": {},
     "output_type": "execute_result"
    }
   ],
   "source": [
    "x_img_test[0]"
   ]
  },
  {
   "cell_type": "code",
   "execution_count": 11,
   "metadata": {},
   "outputs": [
    {
     "data": {
      "text/plain": [
       "(50000, 1)"
      ]
     },
     "execution_count": 11,
     "metadata": {},
     "output_type": "execute_result"
    }
   ],
   "source": [
    "y_label_train.shape"
   ]
  },
  {
   "cell_type": "markdown",
   "metadata": {},
   "source": [
    "y_label_train是圖形資料的真實值，每一個數字代表一種圖形類別名稱，共有10個類別:\n",
    "0:airplane、1:autombile、2:bird、3:cat、4:deer、5:dog、6:frog、7:horse、8:ship、9:truck"
   ]
  },
  {
   "cell_type": "markdown",
   "metadata": {},
   "source": [
    "# 查看多筆images與label\n",
    "\n",
    "#### 定義label_dict字典"
   ]
  },
  {
   "cell_type": "code",
   "execution_count": 12,
   "metadata": {
    "collapsed": true
   },
   "outputs": [],
   "source": [
    "label_dict={0:'airplane', 1:'automobile', 2:'bird', 3:'cat', 4:'deer', 5:'dog', 6:'frog', 7:'horse', 8:'ship', 9:'truck'}"
   ]
  },
  {
   "cell_type": "code",
   "execution_count": 13,
   "metadata": {
    "collapsed": true
   },
   "outputs": [],
   "source": [
    "import matplotlib.pyplot as plt\n",
    "def plot_images_labels_prediction(images, labels, prediction, idx, num=10):\n",
    "    fig = plt.gcf()\n",
    "    fig.set_size_inches(12, 14)\n",
    "    if num>25:\n",
    "        num = 25\n",
    "    for i in range(0, num):\n",
    "        ax = plt.subplot(5, 5, 1+i)\n",
    "        ax.imshow(images[idx], cmap='binary')\n",
    "        \n",
    "        title = str(i) + ',' + label_dict[labels[i][0]]\n",
    "        if len(prediction) > 0:\n",
    "            title += '=>' + label_dict[labels[i][0]]\n",
    "            \n",
    "        ax.set_title(title, fontsize=10)\n",
    "        ax.set_xticks([])\n",
    "        ax.set_yticks([])\n",
    "        idx += 1\n",
    "    plt.show()\n",
    "        "
   ]
  },
  {
   "cell_type": "code",
   "execution_count": 14,
   "metadata": {},
   "outputs": [
    {
     "data": {
      "image/png": "[encoded data removed]",
      "text/plain": [
       "<matplotlib.figure.Figure at 0x1f5088f1e10>"
      ]
     },
     "metadata": {},
     "output_type": "display_data"
    }
   ],
   "source": [
    "plot_images_labels_prediction(x_img_train, y_label_train, [], 0)"
   ]
  },
  {
   "cell_type": "markdown",
   "metadata": {},
   "source": [
    "# 將images進行預處理\n",
    "\n",
    "#### 將照片影像image的數字標準化"
   ]
  },
  {
   "cell_type": "code",
   "execution_count": 15,
   "metadata": {
    "collapsed": true
   },
   "outputs": [],
   "source": [
    "x_img_train_normalize = x_img_train.astype('float32') / 255.0\n",
    "x_img_test_normalize = x_img_test.astype('float32') / 255.0"
   ]
  },
  {
   "cell_type": "markdown",
   "metadata": {},
   "source": [
    "查看照片影像image的pixel標準化後的結果，全部的數值都在0與1之間。"
   ]
  },
  {
   "cell_type": "code",
   "execution_count": 16,
   "metadata": {},
   "outputs": [
    {
     "data": {
      "text/plain": [
       "array([ 0.23137255,  0.24313726,  0.24705882], dtype=float32)"
      ]
     },
     "execution_count": 16,
     "metadata": {},
     "output_type": "execute_result"
    }
   ],
   "source": [
    "x_img_train_normalize[0][0][0]"
   ]
  },
  {
   "cell_type": "markdown",
   "metadata": {},
   "source": [
    "# 將label進行資料預處理\n",
    "因為cifar-10資料集，我們希望預測的影像的類型，例如:「船」的影像的label是8，經過One-hot Encoding轉換維0000000010,10個數字正好對應到輸出層10個神經元。"
   ]
  },
  {
   "cell_type": "code",
   "execution_count": 17,
   "metadata": {},
   "outputs": [
    {
     "data": {
      "text/plain": [
       "(50000, 1)"
      ]
     },
     "execution_count": 17,
     "metadata": {},
     "output_type": "execute_result"
    }
   ],
   "source": [
    "y_label_train.shape"
   ]
  },
  {
   "cell_type": "code",
   "execution_count": 18,
   "metadata": {},
   "outputs": [
    {
     "data": {
      "text/plain": [
       "array([[6],\n",
       "       [9],\n",
       "       [9],\n",
       "       [4],\n",
       "       [1]], dtype=uint8)"
      ]
     },
     "execution_count": 18,
     "metadata": {},
     "output_type": "execute_result"
    }
   ],
   "source": [
    "y_label_train[:5]"
   ]
  },
  {
   "cell_type": "markdown",
   "metadata": {},
   "source": [
    "#### 將label標籤欄位轉換為Onehot encoding"
   ]
  },
  {
   "cell_type": "code",
   "execution_count": 19,
   "metadata": {
    "collapsed": true
   },
   "outputs": [],
   "source": [
    "from keras.utils import np_utils\n",
    "\n",
    "y_label_train_OneHot = np_utils.to_categorical(y_label_train)\n",
    "y_label_test_OneHot = np_utils.to_categorical(y_label_test)"
   ]
  },
  {
   "cell_type": "code",
   "execution_count": 20,
   "metadata": {},
   "outputs": [
    {
     "data": {
      "text/plain": [
       "(50000, 10)"
      ]
     },
     "execution_count": 20,
     "metadata": {},
     "output_type": "execute_result"
    }
   ],
   "source": [
    "y_label_train_OneHot.shape"
   ]
  },
  {
   "cell_type": "code",
   "execution_count": 21,
   "metadata": {},
   "outputs": [
    {
     "data": {
      "text/plain": [
       "array([[ 0.,  0.,  0.,  0.,  0.,  0.,  1.,  0.,  0.,  0.],\n",
       "       [ 0.,  0.,  0.,  0.,  0.,  0.,  0.,  0.,  0.,  1.],\n",
       "       [ 0.,  0.,  0.,  0.,  0.,  0.,  0.,  0.,  0.,  1.],\n",
       "       [ 0.,  0.,  0.,  0.,  1.,  0.,  0.,  0.,  0.,  0.],\n",
       "       [ 0.,  1.,  0.,  0.,  0.,  0.,  0.,  0.,  0.,  0.]])"
      ]
     },
     "execution_count": 21,
     "metadata": {},
     "output_type": "execute_result"
    }
   ],
   "source": [
    "y_label_train_OneHot[:5]"
   ]
  },
  {
   "cell_type": "markdown",
   "metadata": {
    "collapsed": true
   },
   "source": [
    "# 建立模型"
   ]
  },
  {
   "cell_type": "code",
   "execution_count": 93,
   "metadata": {},
   "outputs": [],
   "source": [
    "from keras.models import Sequential\n",
    "from keras.layers import Dense, Dropout, Activation, Flatten\n",
    "from keras.layers import Conv2D, MaxPooling2D, ZeroPadding2D"
   ]
  },
  {
   "cell_type": "code",
   "execution_count": 94,
   "metadata": {
    "collapsed": true
   },
   "outputs": [],
   "source": [
    "model = Sequential()"
   ]
  },
  {
   "cell_type": "code",
   "execution_count": 95,
   "metadata": {},
   "outputs": [],
   "source": [
    "model.add(Conv2D(filters=32, kernel_size=(3, 3), input_shape=(32, 32, 3), activation='relu', padding='same'))"
   ]
  },
  {
   "cell_type": "code",
   "execution_count": 96,
   "metadata": {
    "collapsed": true
   },
   "outputs": [],
   "source": [
    "model.add(Dropout(0.25))"
   ]
  },
  {
   "cell_type": "code",
   "execution_count": 97,
   "metadata": {},
   "outputs": [],
   "source": [
    "model.add(MaxPooling2D(pool_size=(2, 2)))"
   ]
  },
  {
   "cell_type": "code",
   "execution_count": 98,
   "metadata": {
    "collapsed": true
   },
   "outputs": [],
   "source": [
    "model.add(Conv2D(filters=64, kernel_size=(3, 3), activation='relu', padding='same'))"
   ]
  },
  {
   "cell_type": "code",
   "execution_count": 99,
   "metadata": {
    "collapsed": true
   },
   "outputs": [],
   "source": [
    "model.add(Dropout(0.25))"
   ]
  },
  {
   "cell_type": "code",
   "execution_count": 100,
   "metadata": {
    "collapsed": true
   },
   "outputs": [],
   "source": [
    "model.add(MaxPooling2D(pool_size=(2, 2)))"
   ]
  },
  {
   "cell_type": "code",
   "execution_count": 101,
   "metadata": {
    "collapsed": true
   },
   "outputs": [],
   "source": [
    "model.add(Flatten())"
   ]
  },
  {
   "cell_type": "code",
   "execution_count": 102,
   "metadata": {
    "collapsed": true
   },
   "outputs": [],
   "source": [
    "model.add(Dropout(0.25))"
   ]
  },
  {
   "cell_type": "code",
   "execution_count": 103,
   "metadata": {
    "collapsed": true
   },
   "outputs": [],
   "source": [
    "model.add(Dense(1024, activation='relu'))\n",
    "model.add(Dropout(0.25))"
   ]
  },
  {
   "cell_type": "code",
   "execution_count": 104,
   "metadata": {
    "collapsed": true
   },
   "outputs": [],
   "source": [
    "model.add(Dense(10, activation='softmax'))"
   ]
  },
  {
   "cell_type": "code",
   "execution_count": 105,
   "metadata": {},
   "outputs": [],
   "source": [
    "model.compile(loss='categorical_crossentropy', optimizer='adam', metrics=['accuracy'])"
   ]
  },
  {
   "cell_type": "code",
   "execution_count": 106,
   "metadata": {},
   "outputs": [
    {
     "name": "stdout",
     "output_type": "stream",
     "text": [
      "Train on 40000 samples, validate on 10000 samples\n",
      "Epoch 1/10\n",
      "40000/40000 [==============================] - 120s 3ms/step - loss: 1.5823 - acc: 0.4327 - val_loss: 1.4228 - val_acc: 0.5107\n",
      "Epoch 2/10\n",
      "40000/40000 [==============================] - 117s 3ms/step - loss: 1.2130 - acc: 0.5672 - val_loss: 1.1622 - val_acc: 0.6218\n",
      "Epoch 3/10\n",
      "40000/40000 [==============================] - 117s 3ms/step - loss: 1.0613 - acc: 0.6276 - val_loss: 1.0708 - val_acc: 0.6617\n",
      "Epoch 4/10\n",
      "40000/40000 [==============================] - 119s 3ms/step - loss: 0.9585 - acc: 0.6610 - val_loss: 1.0032 - val_acc: 0.6660\n",
      "Epoch 5/10\n",
      "40000/40000 [==============================] - 121s 3ms/step - loss: 0.8606 - acc: 0.6949 - val_loss: 0.9514 - val_acc: 0.6925\n",
      "Epoch 6/10\n",
      "40000/40000 [==============================] - 121s 3ms/step - loss: 0.7720 - acc: 0.7290 - val_loss: 0.9179 - val_acc: 0.6878\n",
      "Epoch 7/10\n",
      "40000/40000 [==============================] - 121s 3ms/step - loss: 0.6947 - acc: 0.7554 - val_loss: 0.8540 - val_acc: 0.7134\n",
      "Epoch 8/10\n",
      "40000/40000 [==============================] - 120s 3ms/step - loss: 0.6271 - acc: 0.7820 - val_loss: 0.8351 - val_acc: 0.7228\n",
      "Epoch 9/10\n",
      "40000/40000 [==============================] - 120s 3ms/step - loss: 0.5535 - acc: 0.8060 - val_loss: 0.8192 - val_acc: 0.7259\n",
      "Epoch 10/10\n",
      "40000/40000 [==============================] - 119s 3ms/step - loss: 0.4899 - acc: 0.8293 - val_loss: 0.7834 - val_acc: 0.7330\n"
     ]
    }
   ],
   "source": [
    "train_history = model.fit(x_img_train_normalize, y_label_train_OneHot, validation_split=0.2, epochs=10, batch_size=128, verbose=1)"
   ]
  },
  {
   "cell_type": "code",
   "execution_count": 41,
   "metadata": {
    "collapsed": true
   },
   "outputs": [],
   "source": [
    "import matplotlib.pyplot as plt\n",
    "\n",
    "def show_train_history(train_history, train, validation):\n",
    "    plt.plot(train_history.history[train])\n",
    "    plt.plot(train_history.history[validation])\n",
    "    plt.title('Train History')\n",
    "    plt.ylabel(train)\n",
    "    plt.xlabel('Epoch')\n",
    "    plt.legend(['train', 'validation'], loc='upper left')\n",
    "    plt.show()"
   ]
  },
  {
   "cell_type": "code",
   "execution_count": 42,
   "metadata": {},
   "outputs": [
    {
     "data": {
      "image/png": "[encoded data removed]",
      "text/plain": [
       "<matplotlib.figure.Figure at 0x1f516e275f8>"
      ]
     },
     "metadata": {},
     "output_type": "display_data"
    }
   ],
   "source": [
    "show_train_history(train_history, 'acc', 'val_acc')"
   ]
  },
  {
   "cell_type": "code",
   "execution_count": 43,
   "metadata": {},
   "outputs": [
    {
     "data": {
      "image/png": "[encoded data removed]",
      "text/plain": [
       "<matplotlib.figure.Figure at 0x1f516e17d68>"
      ]
     },
     "metadata": {},
     "output_type": "display_data"
    }
   ],
   "source": [
    "show_train_history(train_history, 'loss', 'val_loss')"
   ]
  },
  {
   "cell_type": "code",
   "execution_count": 45,
   "metadata": {},
   "outputs": [],
   "source": [
    "scores = model.evaluate(x_img_test_normalize, y_label_test_OneHot, verbose=0)"
   ]
  },
  {
   "cell_type": "code",
   "execution_count": 47,
   "metadata": {},
   "outputs": [
    {
     "data": {
      "text/plain": [
       "0.7359"
      ]
     },
     "execution_count": 47,
     "metadata": {},
     "output_type": "execute_result"
    }
   ],
   "source": [
    "scores[1]"
   ]
  },
  {
   "cell_type": "code",
   "execution_count": 48,
   "metadata": {
    "collapsed": true
   },
   "outputs": [],
   "source": [
    "prediction = model.predict_classes(x_img_test_normalize)"
   ]
  },
  {
   "cell_type": "code",
   "execution_count": 49,
   "metadata": {},
   "outputs": [
    {
     "data": {
      "text/plain": [
       "array([3, 8, 8, 0, 6, 6, 1, 6, 3, 1], dtype=int64)"
      ]
     },
     "execution_count": 49,
     "metadata": {},
     "output_type": "execute_result"
    }
   ],
   "source": [
    "prediction[:10]"
   ]
  },
  {
   "cell_type": "code",
   "execution_count": 50,
   "metadata": {},
   "outputs": [
    {
     "data": {
      "image/png": "[encoded data removed]",
      "text/plain": [
       "<matplotlib.figure.Figure at 0x1f516c4b668>"
      ]
     },
     "metadata": {},
     "output_type": "display_data"
    }
   ],
   "source": [
    "plot_images_labels_prediction(x_img_test, y_label_test, prediction, 0, 10)"
   ]
  },
  {
   "cell_type": "code",
   "execution_count": 51,
   "metadata": {
    "collapsed": true
   },
   "outputs": [],
   "source": [
    "Predicted_Probability = model.predict(x_img_test_normalize)"
   ]
  },
  {
   "cell_type": "code",
   "execution_count": 52,
   "metadata": {
    "collapsed": true
   },
   "outputs": [],
   "source": [
    "def show_Predicted_Probability(y, prediction, x_img, Predicted_Probability, i):\n",
    "    print('label:', label_dict[y[i][0]], 'predict', label_dict[prediction[i]])\n",
    "    \n",
    "    plt.figure(figsize=(2, 2))\n",
    "    plt.imshow(np.reshape(x_img_test[i], (32, 32, 3)))\n",
    "    plt.show()\n",
    "    for j in range(10):\n",
    "        print(label_dict[j] + ' Probability:{:1.9}'.format(Predicted_Probability[i][j]))"
   ]
  },
  {
   "cell_type": "code",
   "execution_count": 57,
   "metadata": {},
   "outputs": [
    {
     "name": "stdout",
     "output_type": "stream",
     "text": [
      "label: cat predict cat\n"
     ]
    },
    {
     "data": {
      "image/png": "[encoded data removed]",
      "text/plain": [
       "<matplotlib.figure.Figure at 0x1f516e5c320>"
      ]
     },
     "metadata": {},
     "output_type": "display_data"
    },
    {
     "name": "stdout",
     "output_type": "stream",
     "text": [
      "airplane Probability:0.00236856495\n",
      "automobile Probability:0.00345486519\n",
      "bird Probability:0.0154681206\n",
      "cat Probability:0.552589238\n",
      "deer Probability:0.00413645292\n",
      "dog Probability:0.384106457\n",
      "frog Probability:0.0271172896\n",
      "horse Probability:0.00340668322\n",
      "ship Probability:0.00631237961\n",
      "truck Probability:0.00104000478\n",
      "label: ship predict ship\n"
     ]
    },
    {
     "data": {
      "image/png": "[encoded data removed]",
      "text/plain": [
       "<matplotlib.figure.Figure at 0x1f517fa10b8>"
      ]
     },
     "metadata": {},
     "output_type": "display_data"
    },
    {
     "name": "stdout",
     "output_type": "stream",
     "text": [
      "airplane Probability:0.0067905779\n",
      "automobile Probability:0.140673578\n",
      "bird Probability:3.74007141e-06\n",
      "cat Probability:2.64182236e-05\n",
      "deer Probability:1.58310525e-06\n",
      "dog Probability:2.45837919e-06\n",
      "frog Probability:6.88202908e-06\n",
      "horse Probability:6.75008351e-08\n",
      "ship Probability:0.851492167\n",
      "truck Probability:0.00100250659\n",
      "label: ship predict ship\n"
     ]
    },
    {
     "data": {
      "image/png": "[encoded data removed]",
      "text/plain": [
       "<matplotlib.figure.Figure at 0x1f517fd68d0>"
      ]
     },
     "metadata": {},
     "output_type": "display_data"
    },
    {
     "name": "stdout",
     "output_type": "stream",
     "text": [
      "airplane Probability:0.388697892\n",
      "automobile Probability:0.0425158702\n",
      "bird Probability:0.00520716282\n",
      "cat Probability:0.00245674979\n",
      "deer Probability:0.0157363843\n",
      "dog Probability:0.00213682675\n",
      "frog Probability:0.000616203295\n",
      "horse Probability:0.000869893818\n",
      "ship Probability:0.525458872\n",
      "truck Probability:0.0163041893\n",
      "label: airplane predict airplane\n"
     ]
    },
    {
     "data": {
      "image/png": "[encoded data removed]",
      "text/plain": [
       "<matplotlib.figure.Figure at 0x1f517fc0ac8>"
      ]
     },
     "metadata": {},
     "output_type": "display_data"
    },
    {
     "name": "stdout",
     "output_type": "stream",
     "text": [
      "airplane Probability:0.685306966\n",
      "automobile Probability:0.000423840625\n",
      "bird Probability:0.0276960805\n",
      "cat Probability:0.00091205613\n",
      "deer Probability:0.00256771571\n",
      "dog Probability:1.97619247e-05\n",
      "frog Probability:2.76992032e-05\n",
      "horse Probability:6.26735164e-06\n",
      "ship Probability:0.282774955\n",
      "truck Probability:0.000264656323\n",
      "label: frog predict frog\n"
     ]
    },
    {
     "data": {
      "image/png": "[encoded data removed]",
      "text/plain": [
       "<matplotlib.figure.Figure at 0x1f517fcd470>"
      ]
     },
     "metadata": {},
     "output_type": "display_data"
    },
    {
     "name": "stdout",
     "output_type": "stream",
     "text": [
      "airplane Probability:2.17265082e-07\n",
      "automobile Probability:5.93725599e-06\n",
      "bird Probability:0.0337835997\n",
      "cat Probability:0.0759734064\n",
      "deer Probability:0.0165696647\n",
      "dog Probability:3.52199968e-05\n",
      "frog Probability:0.873597503\n",
      "horse Probability:2.41481246e-07\n",
      "ship Probability:3.34874348e-05\n",
      "truck Probability:6.96270035e-07\n",
      "label: frog predict frog\n"
     ]
    },
    {
     "data": {
      "image/png": "[encoded data removed]",
      "text/plain": [
       "<matplotlib.figure.Figure at 0x1f516ccdf28>"
      ]
     },
     "metadata": {},
     "output_type": "display_data"
    },
    {
     "name": "stdout",
     "output_type": "stream",
     "text": [
      "airplane Probability:3.84996456e-05\n",
      "automobile Probability:4.37489653e-05\n",
      "bird Probability:0.00167294568\n",
      "cat Probability:0.00140943076\n",
      "deer Probability:0.00279356353\n",
      "dog Probability:0.00368755474\n",
      "frog Probability:0.989900529\n",
      "horse Probability:0.000124810846\n",
      "ship Probability:0.000267174997\n",
      "truck Probability:6.16894686e-05\n",
      "label: automobile predict automobile\n"
     ]
    },
    {
     "data": {
      "image/png": "[encoded data removed]",
      "text/plain": [
       "<matplotlib.figure.Figure at 0x1f516df2748>"
      ]
     },
     "metadata": {},
     "output_type": "display_data"
    },
    {
     "name": "stdout",
     "output_type": "stream",
     "text": [
      "airplane Probability:0.00705081178\n",
      "automobile Probability:0.965393484\n",
      "bird Probability:0.00052097271\n",
      "cat Probability:0.00477216672\n",
      "deer Probability:0.00011764931\n",
      "dog Probability:0.00756295584\n",
      "frog Probability:0.001708225\n",
      "horse Probability:0.000814212486\n",
      "ship Probability:0.000149851374\n",
      "truck Probability:0.0119097056\n",
      "label: frog predict frog\n"
     ]
    },
    {
     "data": {
      "image/png": "[encoded data removed]",
      "text/plain": [
       "<matplotlib.figure.Figure at 0x1f516b108d0>"
      ]
     },
     "metadata": {},
     "output_type": "display_data"
    },
    {
     "name": "stdout",
     "output_type": "stream",
     "text": [
      "airplane Probability:0.0309518017\n",
      "automobile Probability:0.000165834907\n",
      "bird Probability:0.240234196\n",
      "cat Probability:0.0239634644\n",
      "deer Probability:0.0300099347\n",
      "dog Probability:0.00107688108\n",
      "frog Probability:0.67052716\n",
      "horse Probability:0.0010791762\n",
      "ship Probability:0.00156146404\n",
      "truck Probability:0.00043000275\n",
      "label: cat predict cat\n"
     ]
    },
    {
     "data": {
      "image/png": "[encoded data removed]",
      "text/plain": [
       "<matplotlib.figure.Figure at 0x1f516c4bb70>"
      ]
     },
     "metadata": {},
     "output_type": "display_data"
    },
    {
     "name": "stdout",
     "output_type": "stream",
     "text": [
      "airplane Probability:0.00181575143\n",
      "automobile Probability:4.93230291e-05\n",
      "bird Probability:0.0351298265\n",
      "cat Probability:0.699406326\n",
      "deer Probability:0.0811633691\n",
      "dog Probability:0.128972903\n",
      "frog Probability:0.0411678366\n",
      "horse Probability:0.0112287831\n",
      "ship Probability:0.000102768121\n",
      "truck Probability:0.00096305256\n",
      "label: automobile predict automobile\n"
     ]
    },
    {
     "data": {
      "image/png": "[encoded data removed]",
      "text/plain": [
       "<matplotlib.figure.Figure at 0x1f516be26a0>"
      ]
     },
     "metadata": {},
     "output_type": "display_data"
    },
    {
     "name": "stdout",
     "output_type": "stream",
     "text": [
      "airplane Probability:0.00462762546\n",
      "automobile Probability:0.713878632\n",
      "bird Probability:0.000211612671\n",
      "cat Probability:0.00081876287\n",
      "deer Probability:0.000264757866\n",
      "dog Probability:0.00119671936\n",
      "frog Probability:0.00251672347\n",
      "horse Probability:5.57784369e-05\n",
      "ship Probability:0.0793772191\n",
      "truck Probability:0.19705224\n"
     ]
    }
   ],
   "source": [
    "for i in range(10):\n",
    "    show_Predicted_Probability(y_label_test, prediction, x_img_test, Predicted_Probability, i)"
   ]
  },
  {
   "cell_type": "code",
   "execution_count": 58,
   "metadata": {},
   "outputs": [
    {
     "data": {
      "text/plain": [
       "(10000,)"
      ]
     },
     "execution_count": 58,
     "metadata": {},
     "output_type": "execute_result"
    }
   ],
   "source": [
    "prediction.shape"
   ]
  },
  {
   "cell_type": "code",
   "execution_count": 59,
   "metadata": {},
   "outputs": [
    {
     "data": {
      "text/plain": [
       "(10000, 1)"
      ]
     },
     "execution_count": 59,
     "metadata": {},
     "output_type": "execute_result"
    }
   ],
   "source": [
    "y_label_test.shape"
   ]
  },
  {
   "cell_type": "code",
   "execution_count": 60,
   "metadata": {},
   "outputs": [
    {
     "data": {
      "text/plain": [
       "array([3, 8, 8, ..., 5, 1, 7])"
      ]
     },
     "execution_count": 60,
     "metadata": {},
     "output_type": "execute_result"
    }
   ],
   "source": [
    "y_label_test.reshape(-1)"
   ]
  },
  {
   "cell_type": "code",
   "execution_count": 62,
   "metadata": {},
   "outputs": [
    {
     "name": "stdout",
     "output_type": "stream",
     "text": [
      "{0: 'airplane', 1: 'automobile', 2: 'bird', 3: 'cat', 4: 'deer', 5: 'dog', 6: 'frog', 7: 'horse', 8: 'ship', 9: 'truck'}\n"
     ]
    },
    {
     "data": {
      "text/html": [
       "<div>\n",
       "<style>\n",
       "    .dataframe thead tr:only-child th {\n",
       "        text-align: right;\n",
       "    }\n",
       "\n",
       "    .dataframe thead th {\n",
       "        text-align: left;\n",
       "    }\n",
       "\n",
       "    .dataframe tbody tr th {\n",
       "        vertical-align: top;\n",
       "    }\n",
       "</style>\n",
       "<table border=\"1\" class=\"dataframe\">\n",
       "  <thead>\n",
       "    <tr style=\"text-align: right;\">\n",
       "      <th>predict</th>\n",
       "      <th>0</th>\n",
       "      <th>1</th>\n",
       "      <th>2</th>\n",
       "      <th>3</th>\n",
       "      <th>4</th>\n",
       "      <th>5</th>\n",
       "      <th>6</th>\n",
       "      <th>7</th>\n",
       "      <th>8</th>\n",
       "      <th>9</th>\n",
       "    </tr>\n",
       "    <tr>\n",
       "      <th>labels</th>\n",
       "      <th></th>\n",
       "      <th></th>\n",
       "      <th></th>\n",
       "      <th></th>\n",
       "      <th></th>\n",
       "      <th></th>\n",
       "      <th></th>\n",
       "      <th></th>\n",
       "      <th></th>\n",
       "      <th></th>\n",
       "    </tr>\n",
       "  </thead>\n",
       "  <tbody>\n",
       "    <tr>\n",
       "      <th>0</th>\n",
       "      <td>807</td>\n",
       "      <td>6</td>\n",
       "      <td>61</td>\n",
       "      <td>11</td>\n",
       "      <td>14</td>\n",
       "      <td>7</td>\n",
       "      <td>11</td>\n",
       "      <td>4</td>\n",
       "      <td>56</td>\n",
       "      <td>23</td>\n",
       "    </tr>\n",
       "    <tr>\n",
       "      <th>1</th>\n",
       "      <td>29</td>\n",
       "      <td>808</td>\n",
       "      <td>19</td>\n",
       "      <td>15</td>\n",
       "      <td>6</td>\n",
       "      <td>7</td>\n",
       "      <td>17</td>\n",
       "      <td>1</td>\n",
       "      <td>25</td>\n",
       "      <td>73</td>\n",
       "    </tr>\n",
       "    <tr>\n",
       "      <th>2</th>\n",
       "      <td>46</td>\n",
       "      <td>1</td>\n",
       "      <td>713</td>\n",
       "      <td>28</td>\n",
       "      <td>73</td>\n",
       "      <td>55</td>\n",
       "      <td>60</td>\n",
       "      <td>10</td>\n",
       "      <td>8</td>\n",
       "      <td>6</td>\n",
       "    </tr>\n",
       "    <tr>\n",
       "      <th>3</th>\n",
       "      <td>19</td>\n",
       "      <td>6</td>\n",
       "      <td>119</td>\n",
       "      <td>454</td>\n",
       "      <td>61</td>\n",
       "      <td>200</td>\n",
       "      <td>107</td>\n",
       "      <td>17</td>\n",
       "      <td>6</td>\n",
       "      <td>11</td>\n",
       "    </tr>\n",
       "    <tr>\n",
       "      <th>4</th>\n",
       "      <td>22</td>\n",
       "      <td>2</td>\n",
       "      <td>109</td>\n",
       "      <td>29</td>\n",
       "      <td>703</td>\n",
       "      <td>30</td>\n",
       "      <td>77</td>\n",
       "      <td>21</td>\n",
       "      <td>6</td>\n",
       "      <td>1</td>\n",
       "    </tr>\n",
       "    <tr>\n",
       "      <th>5</th>\n",
       "      <td>14</td>\n",
       "      <td>2</td>\n",
       "      <td>77</td>\n",
       "      <td>126</td>\n",
       "      <td>45</td>\n",
       "      <td>661</td>\n",
       "      <td>42</td>\n",
       "      <td>25</td>\n",
       "      <td>4</td>\n",
       "      <td>4</td>\n",
       "    </tr>\n",
       "    <tr>\n",
       "      <th>6</th>\n",
       "      <td>3</td>\n",
       "      <td>3</td>\n",
       "      <td>55</td>\n",
       "      <td>30</td>\n",
       "      <td>16</td>\n",
       "      <td>16</td>\n",
       "      <td>875</td>\n",
       "      <td>0</td>\n",
       "      <td>1</td>\n",
       "      <td>1</td>\n",
       "    </tr>\n",
       "    <tr>\n",
       "      <th>7</th>\n",
       "      <td>15</td>\n",
       "      <td>0</td>\n",
       "      <td>63</td>\n",
       "      <td>28</td>\n",
       "      <td>68</td>\n",
       "      <td>78</td>\n",
       "      <td>14</td>\n",
       "      <td>730</td>\n",
       "      <td>4</td>\n",
       "      <td>0</td>\n",
       "    </tr>\n",
       "    <tr>\n",
       "      <th>8</th>\n",
       "      <td>56</td>\n",
       "      <td>29</td>\n",
       "      <td>31</td>\n",
       "      <td>12</td>\n",
       "      <td>11</td>\n",
       "      <td>11</td>\n",
       "      <td>7</td>\n",
       "      <td>1</td>\n",
       "      <td>827</td>\n",
       "      <td>15</td>\n",
       "    </tr>\n",
       "    <tr>\n",
       "      <th>9</th>\n",
       "      <td>47</td>\n",
       "      <td>74</td>\n",
       "      <td>20</td>\n",
       "      <td>13</td>\n",
       "      <td>4</td>\n",
       "      <td>15</td>\n",
       "      <td>10</td>\n",
       "      <td>9</td>\n",
       "      <td>27</td>\n",
       "      <td>781</td>\n",
       "    </tr>\n",
       "  </tbody>\n",
       "</table>\n",
       "</div>"
      ],
      "text/plain": [
       "predict    0    1    2    3    4    5    6    7    8    9\n",
       "labels                                                   \n",
       "0        807    6   61   11   14    7   11    4   56   23\n",
       "1         29  808   19   15    6    7   17    1   25   73\n",
       "2         46    1  713   28   73   55   60   10    8    6\n",
       "3         19    6  119  454   61  200  107   17    6   11\n",
       "4         22    2  109   29  703   30   77   21    6    1\n",
       "5         14    2   77  126   45  661   42   25    4    4\n",
       "6          3    3   55   30   16   16  875    0    1    1\n",
       "7         15    0   63   28   68   78   14  730    4    0\n",
       "8         56   29   31   12   11   11    7    1  827   15\n",
       "9         47   74   20   13    4   15   10    9   27  781"
      ]
     },
     "execution_count": 62,
     "metadata": {},
     "output_type": "execute_result"
    }
   ],
   "source": [
    "import pandas as pd\n",
    "\n",
    "print(label_dict)\n",
    "pd.crosstab(y_label_test.reshape(-1), prediction, rownames=['labels'], colnames=['predict'])"
   ]
  },
  {
   "cell_type": "markdown",
   "metadata": {},
   "source": [
    "---\n",
    "# 建立3次的卷積運算神經網路"
   ]
  },
  {
   "cell_type": "code",
   "execution_count": 68,
   "metadata": {
    "collapsed": true
   },
   "outputs": [],
   "source": [
    "model = Sequential()"
   ]
  },
  {
   "cell_type": "code",
   "execution_count": 69,
   "metadata": {
    "collapsed": true
   },
   "outputs": [],
   "source": [
    "model.add(Conv2D(filters=32, kernel_size=(3, 3), input_shape=(32, 32, 3), activation='relu', padding='same'))\n",
    "model.add(Dropout(0.3))\n",
    "model.add(Conv2D(filters=32, kernel_size=(3, 3), activation='relu', padding='same'))\n",
    "model.add(MaxPooling2D(pool_size=(2, 2)))"
   ]
  },
  {
   "cell_type": "code",
   "execution_count": 70,
   "metadata": {
    "collapsed": true
   },
   "outputs": [],
   "source": [
    "model.add(Conv2D(filters=64, kernel_size=(3, 3), activation='relu', padding='same'))\n",
    "model.add(Dropout(0.3))\n",
    "model.add(Conv2D(filters=64, kernel_size=(3, 3), activation='relu', padding='same'))\n",
    "model.add(MaxPooling2D(pool_size=(2, 2)))"
   ]
  },
  {
   "cell_type": "code",
   "execution_count": 71,
   "metadata": {
    "collapsed": true
   },
   "outputs": [],
   "source": [
    "model.add(Conv2D(filters=128, kernel_size=(3, 3), activation='relu', padding='same'))\n",
    "model.add(Dropout(0.3))\n",
    "model.add(Conv2D(filters=128, kernel_size=(3, 3), activation='relu', padding='same'))\n",
    "model.add(MaxPooling2D(pool_size=(2, 2)))"
   ]
  },
  {
   "cell_type": "code",
   "execution_count": 72,
   "metadata": {
    "collapsed": true
   },
   "outputs": [],
   "source": [
    "model.add(Flatten())\n",
    "model.add(Dropout(0.3))\n",
    "model.add(Dense(2500, activation='relu'))\n",
    "model.add(Dropout(0.3))\n",
    "model.add(Dense(1500, activation='relu'))\n",
    "model.add(Dropout(0.3))\n",
    "model.add(Dense(10, activation='softmax'))"
   ]
  },
  {
   "cell_type": "code",
   "execution_count": 73,
   "metadata": {
    "collapsed": true
   },
   "outputs": [],
   "source": [
    "model.compile(loss='categorical_crossentropy', optimizer='adam', metrics=['accuracy'])"
   ]
  },
  {
   "cell_type": "code",
   "execution_count": 74,
   "metadata": {},
   "outputs": [
    {
     "name": "stdout",
     "output_type": "stream",
     "text": [
      "Train on 40000 samples, validate on 10000 samples\n",
      "Epoch 1/50\n",
      "40000/40000 [==============================] - 269s 7ms/step - loss: 1.8944 - acc: 0.2888 - val_loss: 1.9651 - val_acc: 0.2889\n",
      "Epoch 2/50\n",
      "40000/40000 [==============================] - 267s 7ms/step - loss: 1.4586 - acc: 0.4680 - val_loss: 1.3481 - val_acc: 0.5170\n",
      "Epoch 3/50\n",
      "40000/40000 [==============================] - 266s 7ms/step - loss: 1.2319 - acc: 0.5541 - val_loss: 1.1545 - val_acc: 0.5876\n",
      "Epoch 4/50\n",
      "40000/40000 [==============================] - 267s 7ms/step - loss: 1.0857 - acc: 0.6132 - val_loss: 1.0280 - val_acc: 0.6380\n",
      "Epoch 5/50\n",
      "40000/40000 [==============================] - 266s 7ms/step - loss: 0.9875 - acc: 0.6461 - val_loss: 0.9523 - val_acc: 0.6640\n",
      "Epoch 6/50\n",
      "40000/40000 [==============================] - 266s 7ms/step - loss: 0.8980 - acc: 0.6803 - val_loss: 0.8554 - val_acc: 0.7000\n",
      "Epoch 7/50\n",
      "40000/40000 [==============================] - 268s 7ms/step - loss: 0.8371 - acc: 0.7046 - val_loss: 0.8706 - val_acc: 0.6934\n",
      "Epoch 8/50\n",
      "40000/40000 [==============================] - 267s 7ms/step - loss: 0.7772 - acc: 0.7255 - val_loss: 0.7797 - val_acc: 0.7255\n",
      "Epoch 9/50\n",
      "40000/40000 [==============================] - 271s 7ms/step - loss: 0.7285 - acc: 0.7421 - val_loss: 0.7466 - val_acc: 0.7388\n",
      "Epoch 10/50\n",
      "40000/40000 [==============================] - 273s 7ms/step - loss: 0.6780 - acc: 0.7607 - val_loss: 0.7138 - val_acc: 0.7519\n",
      "Epoch 11/50\n",
      "40000/40000 [==============================] - 276s 7ms/step - loss: 0.6333 - acc: 0.7773 - val_loss: 0.7094 - val_acc: 0.7520\n",
      "Epoch 12/50\n",
      "40000/40000 [==============================] - 271s 7ms/step - loss: 0.6004 - acc: 0.7851 - val_loss: 0.7091 - val_acc: 0.7526\n",
      "Epoch 13/50\n",
      "40000/40000 [==============================] - 272s 7ms/step - loss: 0.5500 - acc: 0.8041 - val_loss: 0.6857 - val_acc: 0.7648\n",
      "Epoch 14/50\n",
      "40000/40000 [==============================] - 270s 7ms/step - loss: 0.5197 - acc: 0.8148 - val_loss: 0.6773 - val_acc: 0.7657\n",
      "Epoch 15/50\n",
      "40000/40000 [==============================] - 272s 7ms/step - loss: 0.4800 - acc: 0.8292 - val_loss: 0.6681 - val_acc: 0.7739\n",
      "Epoch 16/50\n",
      "40000/40000 [==============================] - 271s 7ms/step - loss: 0.4535 - acc: 0.8372 - val_loss: 0.6411 - val_acc: 0.7823\n",
      "Epoch 17/50\n",
      "40000/40000 [==============================] - 273s 7ms/step - loss: 0.4135 - acc: 0.8511 - val_loss: 0.6904 - val_acc: 0.7771\n",
      "Epoch 18/50\n",
      "40000/40000 [==============================] - 276s 7ms/step - loss: 0.3938 - acc: 0.8589 - val_loss: 0.6462 - val_acc: 0.7862\n",
      "Epoch 19/50\n",
      "40000/40000 [==============================] - 284s 7ms/step - loss: 0.3673 - acc: 0.8701 - val_loss: 0.6578 - val_acc: 0.7835\n",
      "Epoch 20/50\n",
      "40000/40000 [==============================] - 275s 7ms/step - loss: 0.3467 - acc: 0.8777 - val_loss: 0.6376 - val_acc: 0.7882\n",
      "Epoch 21/50\n",
      "40000/40000 [==============================] - 279s 7ms/step - loss: 0.3285 - acc: 0.8815 - val_loss: 0.6634 - val_acc: 0.7910\n",
      "Epoch 22/50\n",
      "40000/40000 [==============================] - 287s 7ms/step - loss: 0.3070 - acc: 0.8896 - val_loss: 0.6768 - val_acc: 0.7824\n",
      "Epoch 23/50\n",
      "40000/40000 [==============================] - 299s 7ms/step - loss: 0.2989 - acc: 0.8929 - val_loss: 0.7047 - val_acc: 0.7801\n",
      "Epoch 24/50\n",
      "40000/40000 [==============================] - 312s 8ms/step - loss: 0.2769 - acc: 0.9009 - val_loss: 0.6774 - val_acc: 0.7915\n",
      "Epoch 25/50\n",
      "40000/40000 [==============================] - 290s 7ms/step - loss: 0.2627 - acc: 0.9079 - val_loss: 0.6831 - val_acc: 0.7960\n",
      "Epoch 26/50\n",
      "40000/40000 [==============================] - 282s 7ms/step - loss: 0.2574 - acc: 0.9099 - val_loss: 0.6941 - val_acc: 0.7965\n",
      "Epoch 27/50\n",
      "40000/40000 [==============================] - 282s 7ms/step - loss: 0.2367 - acc: 0.9164 - val_loss: 0.6925 - val_acc: 0.8041\n",
      "Epoch 28/50\n",
      "40000/40000 [==============================] - 279s 7ms/step - loss: 0.2284 - acc: 0.9193 - val_loss: 0.6949 - val_acc: 0.7958\n",
      "Epoch 29/50\n",
      "40000/40000 [==============================] - 287s 7ms/step - loss: 0.2215 - acc: 0.9213 - val_loss: 0.7737 - val_acc: 0.7841\n",
      "Epoch 30/50\n",
      "40000/40000 [==============================] - 286s 7ms/step - loss: 0.2157 - acc: 0.9256 - val_loss: 0.6801 - val_acc: 0.8039\n",
      "Epoch 31/50\n",
      "40000/40000 [==============================] - 279s 7ms/step - loss: 0.2038 - acc: 0.9278 - val_loss: 0.7137 - val_acc: 0.7967\n",
      "Epoch 32/50\n",
      "40000/40000 [==============================] - 278s 7ms/step - loss: 0.1977 - acc: 0.9304 - val_loss: 0.7126 - val_acc: 0.7946\n",
      "Epoch 33/50\n",
      "40000/40000 [==============================] - 276s 7ms/step - loss: 0.1907 - acc: 0.9332 - val_loss: 0.7150 - val_acc: 0.8029\n",
      "Epoch 34/50\n",
      "40000/40000 [==============================] - 277s 7ms/step - loss: 0.1832 - acc: 0.9366 - val_loss: 0.7374 - val_acc: 0.7918\n",
      "Epoch 35/50\n",
      "40000/40000 [==============================] - 277s 7ms/step - loss: 0.1852 - acc: 0.9354 - val_loss: 0.7344 - val_acc: 0.7935\n",
      "Epoch 36/50\n",
      "40000/40000 [==============================] - 277s 7ms/step - loss: 0.1816 - acc: 0.9372 - val_loss: 0.7285 - val_acc: 0.8013\n",
      "Epoch 37/50\n",
      "40000/40000 [==============================] - 277s 7ms/step - loss: 0.1748 - acc: 0.9386 - val_loss: 0.7947 - val_acc: 0.7907\n",
      "Epoch 38/50\n",
      "40000/40000 [==============================] - 276s 7ms/step - loss: 0.1685 - acc: 0.9412 - val_loss: 0.7600 - val_acc: 0.7938\n",
      "Epoch 39/50\n",
      "40000/40000 [==============================] - 276s 7ms/step - loss: 0.1627 - acc: 0.9429 - val_loss: 0.7321 - val_acc: 0.8032\n",
      "Epoch 40/50\n",
      "40000/40000 [==============================] - 280s 7ms/step - loss: 0.1723 - acc: 0.9403 - val_loss: 0.7585 - val_acc: 0.7922\n",
      "Epoch 41/50\n",
      "40000/40000 [==============================] - 287s 7ms/step - loss: 0.1558 - acc: 0.9468 - val_loss: 0.7587 - val_acc: 0.7976\n",
      "Epoch 42/50\n",
      "40000/40000 [==============================] - 281s 7ms/step - loss: 0.1506 - acc: 0.9477 - val_loss: 0.7439 - val_acc: 0.8034\n",
      "Epoch 43/50\n",
      "40000/40000 [==============================] - 282s 7ms/step - loss: 0.1504 - acc: 0.9475 - val_loss: 0.7673 - val_acc: 0.7963\n",
      "Epoch 44/50\n",
      "40000/40000 [==============================] - 276s 7ms/step - loss: 0.1474 - acc: 0.9487 - val_loss: 0.7593 - val_acc: 0.7979\n",
      "Epoch 45/50\n",
      "40000/40000 [==============================] - 277s 7ms/step - loss: 0.1482 - acc: 0.9489 - val_loss: 0.7626 - val_acc: 0.8005\n",
      "Epoch 46/50\n",
      "40000/40000 [==============================] - 277s 7ms/step - loss: 0.1389 - acc: 0.9529 - val_loss: 0.7756 - val_acc: 0.7972\n",
      "Epoch 47/50\n",
      "40000/40000 [==============================] - 294s 7ms/step - loss: 0.1465 - acc: 0.9501 - val_loss: 0.7502 - val_acc: 0.7986\n",
      "Epoch 48/50\n",
      "40000/40000 [==============================] - 272s 7ms/step - loss: 0.1417 - acc: 0.9511 - val_loss: 0.7534 - val_acc: 0.8002\n",
      "Epoch 49/50\n",
      "40000/40000 [==============================] - 278s 7ms/step - loss: 0.1356 - acc: 0.9533 - val_loss: 0.7607 - val_acc: 0.7979\n",
      "Epoch 50/50\n",
      "40000/40000 [==============================] - 283s 7ms/step - loss: 0.1295 - acc: 0.9548 - val_loss: 0.7900 - val_acc: 0.8039\n"
     ]
    }
   ],
   "source": [
    "train_history = model.fit(x_img_train_normalize, y_label_train_OneHot, validation_split=0.2, epochs=50, batch_size=300, verbose=1)"
   ]
  },
  {
   "cell_type": "code",
   "execution_count": 75,
   "metadata": {
    "collapsed": true
   },
   "outputs": [],
   "source": [
    "scores = model.evaluate(x_img_test_normalize, y_label_test_OneHot, verbose=0)"
   ]
  },
  {
   "cell_type": "code",
   "execution_count": 76,
   "metadata": {},
   "outputs": [
    {
     "data": {
      "text/plain": [
       "0.79000000000000004"
      ]
     },
     "execution_count": 76,
     "metadata": {},
     "output_type": "execute_result"
    }
   ],
   "source": [
    "scores[1]"
   ]
  },
  {
   "cell_type": "markdown",
   "metadata": {},
   "source": [
    "#### 將訓練週期設定為5次"
   ]
  },
  {
   "cell_type": "code",
   "execution_count": 77,
   "metadata": {},
   "outputs": [
    {
     "name": "stdout",
     "output_type": "stream",
     "text": [
      "Epoch 1/5\n",
      "50000/50000 [==============================] - 383s 8ms/step - loss: 0.4492 - acc: 0.8576\n",
      "Epoch 2/5\n",
      "50000/50000 [==============================] - 379s 8ms/step - loss: 0.3787 - acc: 0.8747\n",
      "Epoch 3/5\n",
      "50000/50000 [==============================] - 371s 7ms/step - loss: 0.3429 - acc: 0.8868\n",
      "Epoch 4/5\n",
      "50000/50000 [==============================] - 369s 7ms/step - loss: 0.3256 - acc: 0.8899\n",
      "Epoch 5/5\n",
      "50000/50000 [==============================] - 368s 7ms/step - loss: 0.3020 - acc: 0.8984\n"
     ]
    }
   ],
   "source": [
    "train_history = model.fit(x_img_train_normalize, y_label_train_OneHot, validation_split=-.2, epochs=5, batch_size=128, verbose=1)"
   ]
  },
  {
   "cell_type": "code",
   "execution_count": 84,
   "metadata": {
    "collapsed": true
   },
   "outputs": [],
   "source": [
    "scores = model.evaluate(x_img_test_normalize, y_label_test_OneHot, verbose=0)"
   ]
  },
  {
   "cell_type": "code",
   "execution_count": 85,
   "metadata": {},
   "outputs": [
    {
     "data": {
      "text/plain": [
       "0.7823"
      ]
     },
     "execution_count": 85,
     "metadata": {},
     "output_type": "execute_result"
    }
   ],
   "source": [
    "scores[1]"
   ]
  },
  {
   "cell_type": "code",
   "execution_count": 87,
   "metadata": {},
   "outputs": [
    {
     "name": "stdout",
     "output_type": "stream",
     "text": [
      "Saved model to disk\n"
     ]
    }
   ],
   "source": [
    "model.save_weights('SaveModel/cifarCnnModel.h5')\n",
    "print('Saved model to disk')"
   ]
  },
  {
   "cell_type": "code",
   "execution_count": 88,
   "metadata": {},
   "outputs": [
    {
     "name": "stdout",
     "output_type": "stream",
     "text": [
      "OK\n"
     ]
    }
   ],
   "source": [
    "try:\n",
    "    model.load_weights('SaveModel/cifarCnnModel.h5')\n",
    "    print(\"OK\")\n",
    "except:\n",
    "    print(\"No\")"
   ]
  },
  {
   "cell_type": "code",
   "execution_count": 90,
   "metadata": {},
   "outputs": [
    {
     "ename": "KeyError",
     "evalue": "'val_acc'",
     "output_type": "error",
     "traceback": [
      "\u001b[1;31m---------------------------------------------------------------------------\u001b[0m",
      "\u001b[1;31mKeyError\u001b[0m                                  Traceback (most recent call last)",
      "\u001b[1;32m<ipython-input-90-43162c91dab7>\u001b[0m in \u001b[0;36m<module>\u001b[1;34m()\u001b[0m\n\u001b[1;32m----> 1\u001b[1;33m \u001b[0mshow_train_history\u001b[0m\u001b[1;33m(\u001b[0m\u001b[0mtrain_history\u001b[0m\u001b[1;33m,\u001b[0m \u001b[1;34m'acc'\u001b[0m\u001b[1;33m,\u001b[0m \u001b[1;34m'val_acc'\u001b[0m\u001b[1;33m)\u001b[0m\u001b[1;33m\u001b[0m\u001b[0m\n\u001b[0m",
      "\u001b[1;32m<ipython-input-41-23abed9a829e>\u001b[0m in \u001b[0;36mshow_train_history\u001b[1;34m(train_history, train, validation)\u001b[0m\n\u001b[0;32m      3\u001b[0m \u001b[1;32mdef\u001b[0m \u001b[0mshow_train_history\u001b[0m\u001b[1;33m(\u001b[0m\u001b[0mtrain_history\u001b[0m\u001b[1;33m,\u001b[0m \u001b[0mtrain\u001b[0m\u001b[1;33m,\u001b[0m \u001b[0mvalidation\u001b[0m\u001b[1;33m)\u001b[0m\u001b[1;33m:\u001b[0m\u001b[1;33m\u001b[0m\u001b[0m\n\u001b[0;32m      4\u001b[0m     \u001b[0mplt\u001b[0m\u001b[1;33m.\u001b[0m\u001b[0mplot\u001b[0m\u001b[1;33m(\u001b[0m\u001b[0mtrain_history\u001b[0m\u001b[1;33m.\u001b[0m\u001b[0mhistory\u001b[0m\u001b[1;33m[\u001b[0m\u001b[0mtrain\u001b[0m\u001b[1;33m]\u001b[0m\u001b[1;33m)\u001b[0m\u001b[1;33m\u001b[0m\u001b[0m\n\u001b[1;32m----> 5\u001b[1;33m     \u001b[0mplt\u001b[0m\u001b[1;33m.\u001b[0m\u001b[0mplot\u001b[0m\u001b[1;33m(\u001b[0m\u001b[0mtrain_history\u001b[0m\u001b[1;33m.\u001b[0m\u001b[0mhistory\u001b[0m\u001b[1;33m[\u001b[0m\u001b[0mvalidation\u001b[0m\u001b[1;33m]\u001b[0m\u001b[1;33m)\u001b[0m\u001b[1;33m\u001b[0m\u001b[0m\n\u001b[0m\u001b[0;32m      6\u001b[0m     \u001b[0mplt\u001b[0m\u001b[1;33m.\u001b[0m\u001b[0mtitle\u001b[0m\u001b[1;33m(\u001b[0m\u001b[1;34m'Train History'\u001b[0m\u001b[1;33m)\u001b[0m\u001b[1;33m\u001b[0m\u001b[0m\n\u001b[0;32m      7\u001b[0m     \u001b[0mplt\u001b[0m\u001b[1;33m.\u001b[0m\u001b[0mylabel\u001b[0m\u001b[1;33m(\u001b[0m\u001b[0mtrain\u001b[0m\u001b[1;33m)\u001b[0m\u001b[1;33m\u001b[0m\u001b[0m\n",
      "\u001b[1;31mKeyError\u001b[0m: 'val_acc'"
     ]
    }
   ],
   "source": [
    "show_train_history(train_history, 'acc', 'val_acc')"
   ]
  },
  {
   "cell_type": "code",
   "execution_count": 92,
   "metadata": {},
   "outputs": [
    {
     "data": {
      "text/plain": [
       "{'acc': [0.85761999998092653,\n",
       "  0.87470000003814696,\n",
       "  0.88682000000000005,\n",
       "  0.88994000001907347,\n",
       "  0.89835999998092653],\n",
       " 'loss': [0.44922102102279665,\n",
       "  0.37867141313552855,\n",
       "  0.34289868837356569,\n",
       "  0.32560521103858947,\n",
       "  0.30199700273513796]}"
      ]
     },
     "execution_count": 92,
     "metadata": {},
     "output_type": "execute_result"
    }
   ],
   "source": [
    "train_history.history"
   ]
  },
  {
   "cell_type": "code",
   "execution_count": null,
   "metadata": {
    "collapsed": true
   },
   "outputs": [],
   "source": []
  }
 ],
 "metadata": {
  "kernelspec": {
   "display_name": "Python 3",
   "language": "python",
   "name": "python3"
  },
  "language_info": {
   "codemirror_mode": {
    "name": "ipython",
    "version": 3
   },
   "file_extension": ".py",
   "mimetype": "text/x-python",
   "name": "python",
   "nbconvert_exporter": "python",
   "pygments_lexer": "ipython3",
   "version": "3.6.3"
  }
 },
 "nbformat": 4,
 "nbformat_minor": 2
}
